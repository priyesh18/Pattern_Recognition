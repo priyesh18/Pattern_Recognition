{
 "cells": [
  {
   "cell_type": "markdown",
   "metadata": {},
   "source": [
    "# Imports"
   ]
  },
  {
   "cell_type": "code",
   "execution_count": 53,
   "metadata": {},
   "outputs": [],
   "source": [
    "import numpy as np\n",
    "import pandas as pd\n",
    "import matplotlib.pyplot as plt\n",
    "from matplotlib.pyplot import imshow\n",
    "%matplotlib inline"
   ]
  },
  {
   "cell_type": "code",
   "execution_count": 54,
   "metadata": {},
   "outputs": [],
   "source": [
    "# from sklearn import datasets\n",
    "from sklearn.datasets import load_digits\n",
    "from sklearn.metrics import classification_report, confusion_matrix"
   ]
  },
  {
   "cell_type": "markdown",
   "metadata": {},
   "source": [
    "# Import data"
   ]
  },
  {
   "cell_type": "code",
   "execution_count": 55,
   "metadata": {},
   "outputs": [],
   "source": [
    "TRAIN_FILE ='train-images.idx3-ubyte'\n",
    "TRAIN_LABEL ='train-labels.idx1-ubyte'\n",
    "TEST_FILE ='t10k-images.idx3-ubyte'\n",
    "TEST_LABEL ='t10k-labels.idx1-ubyte'"
   ]
  },
  {
   "cell_type": "code",
   "execution_count": 56,
   "metadata": {},
   "outputs": [
    {
     "name": "stdout",
     "output_type": "stream",
     "text": [
      "Size of the training set: (60000, 784)\n",
      "Size of the training labels: (60000,)\n",
      "Size of the test set: (10000, 784)\n",
      "Size of the test label: (10000,)\n"
     ]
    }
   ],
   "source": [
    "with open(TRAIN_FILE, 'rb') as ftemp:\n",
    "    datatemp = np.fromfile(ftemp, dtype = np.ubyte)\n",
    "    X_train = datatemp[16::].reshape(60000,784)\n",
    "    print('Size of the training set:',X_train.shape)\n",
    "\n",
    "with open(TRAIN_LABEL, 'rb') as ftemp:\n",
    "    datatemp = np.fromfile(ftemp, dtype = np.ubyte)\n",
    "    y_train = datatemp[8::]\n",
    "    print('Size of the training labels:',y_train.shape)\n",
    "    \n",
    "with open(TEST_FILE, 'rb') as ftemp:\n",
    "    datatemp = np.fromfile(ftemp, dtype = np.ubyte)\n",
    "    X_test = datatemp[16::].reshape(10000,784)\n",
    "    print('Size of the test set:',X_test.shape)\n",
    "    \n",
    "with open(TEST_LABEL, 'rb') as ftemp:\n",
    "    datatemp = np.fromfile(ftemp, dtype = np.ubyte)\n",
    "    y_test = datatemp[8::]\n",
    "    print('Size of the test label:',y_test.shape)"
   ]
  },
  {
   "cell_type": "code",
   "execution_count": 57,
   "metadata": {},
   "outputs": [],
   "source": [
    "from sklearn.model_selection import train_test_split\n",
    "from sklearn.svm import SVC"
   ]
  },
  {
   "cell_type": "markdown",
   "metadata": {},
   "source": [
    "# Initial training"
   ]
  },
  {
   "cell_type": "code",
   "execution_count": 59,
   "metadata": {},
   "outputs": [
    {
     "data": {
      "text/plain": [
       "SVC(C=1.0, cache_size=200, class_weight=None, coef0=0.0,\n",
       "    decision_function_shape='ovr', degree=3, gamma='auto', kernel='linear',\n",
       "    max_iter=-1, probability=False, random_state=None, shrinking=True,\n",
       "    tol=0.001, verbose=False)"
      ]
     },
     "execution_count": 59,
     "metadata": {},
     "output_type": "execute_result"
    }
   ],
   "source": [
    "classifier = SVC(gamma='auto', kernel='linear')\n",
    "classifier.fit(X_train, y_train)"
   ]
  },
  {
   "cell_type": "code",
   "execution_count": 60,
   "metadata": {},
   "outputs": [],
   "source": [
    "predictions = classifier.predict(X_test)"
   ]
  },
  {
   "cell_type": "code",
   "execution_count": 61,
   "metadata": {},
   "outputs": [
    {
     "name": "stdout",
     "output_type": "stream",
     "text": [
      "[[ 957    0    6    2    0    8    3    1    2    1]\n",
      " [   0 1118    2    2    0    1    2    2    8    0]\n",
      " [   9   10  939   29   11    6    7    4   15    2]\n",
      " [   4    2   27  923    2   25    2    9   15    1]\n",
      " [   0    2   12    0  924    2    3    1    4   34]\n",
      " [  12    3    8   54    5  767   13    2   24    4]\n",
      " [  16    3   18    1    9   15  894    1    1    0]\n",
      " [   2   13   26   10   15    1    0  926    3   32]\n",
      " [  12    9   22   41   12   38    7    6  822    5]\n",
      " [   8    8    5   11   42    7    0   34   11  883]]\n"
     ]
    }
   ],
   "source": [
    "print(confusion_matrix(y_test, predictions))"
   ]
  },
  {
   "cell_type": "code",
   "execution_count": 62,
   "metadata": {},
   "outputs": [
    {
     "name": "stdout",
     "output_type": "stream",
     "text": [
      "\n",
      "\n",
      "              precision    recall  f1-score   support\n",
      "\n",
      "           0       0.94      0.98      0.96       980\n",
      "           1       0.96      0.99      0.97      1135\n",
      "           2       0.88      0.91      0.90      1032\n",
      "           3       0.86      0.91      0.89      1010\n",
      "           4       0.91      0.94      0.92       982\n",
      "           5       0.88      0.86      0.87       892\n",
      "           6       0.96      0.93      0.95       958\n",
      "           7       0.94      0.90      0.92      1028\n",
      "           8       0.91      0.84      0.87       974\n",
      "           9       0.92      0.88      0.90      1009\n",
      "\n",
      "    accuracy                           0.92     10000\n",
      "   macro avg       0.92      0.91      0.91     10000\n",
      "weighted avg       0.92      0.92      0.92     10000\n",
      "\n"
     ]
    }
   ],
   "source": [
    "print('\\n')\n",
    "print(classification_report(y_test, predictions))"
   ]
  },
  {
   "cell_type": "markdown",
   "metadata": {},
   "source": [
    "# Cross-validation using gridsearch to tune the hyper-parameter 'C' and 'gamma'"
   ]
  },
  {
   "cell_type": "code",
   "execution_count": 63,
   "metadata": {},
   "outputs": [],
   "source": [
    "from sklearn.model_selection import GridSearchCV"
   ]
  },
  {
   "cell_type": "code",
   "execution_count": 69,
   "metadata": {},
   "outputs": [],
   "source": [
    "param_grid = {'C': [0.1,1, 0.01], 'gamma': [0.01, 0.1,1]}"
   ]
  },
  {
   "cell_type": "code",
   "execution_count": 70,
   "metadata": {},
   "outputs": [
    {
     "name": "stdout",
     "output_type": "stream",
     "text": [
      "Fitting 3 folds for each of 9 candidates, totalling 27 fits\n"
     ]
    },
    {
     "name": "stderr",
     "output_type": "stream",
     "text": [
      "[Parallel(n_jobs=1)]: Using backend SequentialBackend with 1 concurrent workers.\n",
      "[Parallel(n_jobs=1)]: Done  27 out of  27 | elapsed:  7.8min finished\n"
     ]
    },
    {
     "data": {
      "text/plain": [
       "GridSearchCV(cv=3, error_score='raise-deprecating',\n",
       "             estimator=SVC(C=1.0, cache_size=200, class_weight=None, coef0=0.0,\n",
       "                           decision_function_shape='ovr', degree=3,\n",
       "                           gamma='auto_deprecated', kernel='linear',\n",
       "                           max_iter=-1, probability=False, random_state=None,\n",
       "                           shrinking=True, tol=0.001, verbose=False),\n",
       "             iid='warn', n_jobs=None,\n",
       "             param_grid={'C': [0.1, 1, 0.01], 'gamma': [0.01, 0.1, 1]},\n",
       "             pre_dispatch='2*n_jobs', refit=True, return_train_score=False,\n",
       "             scoring=None, verbose=1)"
      ]
     },
     "execution_count": 70,
     "metadata": {},
     "output_type": "execute_result"
    }
   ],
   "source": [
    "grid = GridSearchCV(SVC(kernel='linear'), param_grid, verbose=1, cv=3)\n",
    "grid.fit(X_train, y_train)"
   ]
  },
  {
   "cell_type": "code",
   "execution_count": 71,
   "metadata": {},
   "outputs": [
    {
     "data": {
      "text/plain": [
       "{'C': 0.1, 'gamma': 0.01}"
      ]
     },
     "execution_count": 71,
     "metadata": {},
     "output_type": "execute_result"
    }
   ],
   "source": [
    "grid_predictions = grid.predict(X_test)\n",
    "grid.best_params_"
   ]
  },
  {
   "cell_type": "code",
   "execution_count": 73,
   "metadata": {},
   "outputs": [
    {
     "name": "stdout",
     "output_type": "stream",
     "text": [
      "              precision    recall  f1-score   support\n",
      "\n",
      "           0       0.94      0.98      0.96       980\n",
      "           1       0.96      0.99      0.97      1135\n",
      "           2       0.88      0.91      0.90      1032\n",
      "           3       0.86      0.91      0.89      1010\n",
      "           4       0.91      0.94      0.92       982\n",
      "           5       0.88      0.86      0.87       892\n",
      "           6       0.96      0.93      0.95       958\n",
      "           7       0.94      0.90      0.92      1028\n",
      "           8       0.91      0.84      0.87       974\n",
      "           9       0.92      0.88      0.90      1009\n",
      "\n",
      "    accuracy                           0.92     10000\n",
      "   macro avg       0.92      0.91      0.91     10000\n",
      "weighted avg       0.92      0.92      0.92     10000\n",
      "\n"
     ]
    }
   ],
   "source": [
    "print(classification_report(y_test, grid_predictions))"
   ]
  },
  {
   "cell_type": "code",
   "execution_count": 74,
   "metadata": {},
   "outputs": [
    {
     "data": {
      "text/plain": [
       "0.9153"
      ]
     },
     "execution_count": 74,
     "metadata": {},
     "output_type": "execute_result"
    }
   ],
   "source": [
    "grid.score(X_test, y_test)"
   ]
  },
  {
   "cell_type": "markdown",
   "metadata": {},
   "source": [
    "# Question\n",
    "Given (x1, y1), ...,(xn,yn) where y1, ...,yn $\\in $ { -1, 1 }\n",
    "\n",
    "## Primal problem  \n",
    "$ minimize\\quad w^T.w + C\\sum_{i=1}^{N}\\xi $  \n",
    "subject to \n",
    "$ y_i.(w^T.x_i) \\geq 1-\\xi  ,and, \\xi \\geq 0 for i=1,..N $\n",
    "\n",
    "## Lagragian\n",
    "\n",
    "$ L(w,\\xi,\\alpha,\\gamma) = \\frac{1}{2} w^T.w + C\\sum_{i=1}^{N}\\xi_i - \\sum_{i=1}^{N}\\alpha_i[y_i(w^T.x_i) - 1 + \\xi] - \\sum_{i=1}^{N}\\gamma_i\\xi_i $  \n",
    "where $ \\alpha_i \\geq 0 \\quad \n",
    "\\quad and \\quad \\gamma_i \\geq 0 $\n",
    "\n",
    "## Set partial derivative of Lagrange function over primal variable to zero\n",
    "\n",
    "$ \\frac{\\partial L}{\\partial w} = w - \\sum_{i=1}^{N}y_i\\alpha_ix_i = 0 $  \n",
    "$ w = \\sum_{i=1}^{N}y_i\\alpha_i x_i $  \n",
    "$ \\frac{\\partial L}{\\partial\\xi} = C - \\alpha - \\gamma = 0 $\n",
    "\n",
    "Substitute $ w = \\sum_{i=1}^{N}y_i\\alpha_i x_i $ \n",
    "    and $ \\gamma = C - \\alpha $\n",
    "\n",
    "## The dual problem\n",
    "$ maximize\\quad L(\\alpha, \\gamma) = \\frac{1}{2} (\\sum_{i=1}^{N}y_i\\alpha_i x_i)^T.(\\sum_{j=1}^{N}y_j\\alpha_j x_j) + C\\sum_{i=1}^{N}\\xi_i - \\sum_{i=1}^{N}\\alpha_i[y_i((\\sum_{i=1}^{N}y_i\\alpha_i x_i)^T.x_i) - 1 + \\xi] - \\sum_{i=1}^{N}\\gamma_i\\xi_i $ \n",
    "\n",
    "$ \\implies maximize\\quad L(\\alpha, \\gamma) = \\sum_{i=1}^{N}\\alpha_i - \\frac{1}{2} \\sum_{i=1}^{N}\\sum_{j=1}^{N}y_iy_j\\alpha_i\\alpha_jx_j^Tx_i $ \n",
    "\n",
    " \n",
    "\n",
    "subject to \n",
    "$ 0 \\leq \\alpha_i \\leq C $ and $ \\sum_{i=1}^{N}\\alpha_iy_i = 0 $\n",
    "\n",
    "## Margins\n",
    "- Margin in primal formulation\n",
    "$ (\\sqrt{w^Tw})^\\frac{-1}{2} $\n",
    "- Margin in the dual formulation\n",
    "$ (\\sqrt{\\sum_{i=1}^{N}\\sum_{j=1}^{N}y_iy_j\\alpha_i\\alpha_jx_j^Tx_i})^\\frac{-1}{2} $\n",
    "\n",
    "## Benefit of maximizing the margin\n",
    "The data that we get may have some noise and hence may not always follow the support vectors. If the margin is maximized, it reduces the affect of noise on our classifier accuracy.\n",
    "\n",
    "## Benefit of solving a dual problem\n",
    " - The dual solution provides a lower bound on the primal solution.\n",
    " - In some cases finding the dual solution of a given primal solution is easier.\n",
    " - For eg: If the primal problem is minimization but finding the maximum of dual will provide the minimum of primal.\n",
    " \n",
    "## Characterize support vectors\n",
    "1. The vectors on the margin i.e. ( $\\xi = 0 $)\n",
    "2. Vectors on the incorrect side of the dividing hyperplane i.e. ( $ 0 \\lt \\xi \\lt 1 $)\n",
    "3. Vectors on the incorrect side of the dividing hyperplane i.e. ( $\\xi \\geq 1 $)"
   ]
  },
  {
   "cell_type": "code",
   "execution_count": null,
   "metadata": {},
   "outputs": [],
   "source": []
  }
 ],
 "metadata": {
  "kernelspec": {
   "display_name": "Python 3",
   "language": "python",
   "name": "python3"
  },
  "language_info": {
   "codemirror_mode": {
    "name": "ipython",
    "version": 3
   },
   "file_extension": ".py",
   "mimetype": "text/x-python",
   "name": "python",
   "nbconvert_exporter": "python",
   "pygments_lexer": "ipython3",
   "version": "3.7.4"
  }
 },
 "nbformat": 4,
 "nbformat_minor": 2
}
